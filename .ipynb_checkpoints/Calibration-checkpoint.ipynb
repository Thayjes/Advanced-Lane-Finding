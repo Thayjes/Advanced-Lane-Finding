{
 "cells": [
  {
   "cell_type": "code",
   "execution_count": null,
   "metadata": {
    "collapsed": true
   },
   "outputs": [],
   "source": [
    "# In this notebook we will create a function that will undistort each image\n",
    "import numpy as np\n",
    "import cv2\n",
    "import glob\n",
    "from matplotlib import pyplot as plt\n",
    "#%matplotlib qt\n",
    "\n",
    "# Prepare the object points (0,0,0), (1, 0, 0), .. , (8, 4, 0)\n",
    "objp = np.zeros( (6*9, 3), np.float32)\n",
    "objp[:,:2] = np.mgrid[0:9, 0:6].T.reshape(-1, 2)\n",
    "\n",
    "# Create an array to store object points and image points\n",
    "objpoints = []\n",
    "imgpoints = []\n",
    "\n",
    "# List of calibration images\n",
    "images = glob.glob(\"C:/Users/lenovo/Documents/SDCND/CarND-Advanced-Lane-Lines/camera_cal/*.jpg\")\n",
    "# Loop through all images and search for chessboard corners\n",
    "for k, imagepath in enumerate(images):\n",
    "    print(k)\n",
    "    img = cv2.imread(imagepath)\n",
    "    # convert to gray\n",
    "    gray = cv2.cvtColor(img, cv2.COLOR_BGR2GRAY)\n",
    "    ret, corners = cv2.findChessboardCorners(gray, (9, 6), None)\n",
    "    print(ret)\n",
    "    if ret == True:\n",
    "        objpoints.append(objp)\n",
    "        imgpoints.append(corners)\n",
    "        cv2.drawChessboardCorners(img, (9, 6), corners, ret)\n",
    "        plt.imshow(img, cmap = \"gray\"), plt.show()\n",
    "\n",
    "\n",
    "\n"
   ]
  },
  {
   "cell_type": "code",
   "execution_count": null,
   "metadata": {
    "collapsed": true
   },
   "outputs": [],
   "source": [
    "import pickle\n",
    "%matplotlib inline\n",
    "\n",
    "img_test = cv2.cvtColor(cv2.imread(\"Images/test_images/straight_lines1.jpg\"), cv2.COLOR_BGR2RGB)\n",
    "img_size = (img_test.shape[1], img_test.shape[0])\n",
    "\n",
    "# Get distortion coefficients and calibration matrix\n",
    "ret, mtx, dist, rvecs, tvecs = cv2.calibrateCamera(objpoints, imgpoints, img_size, None, None)\n",
    "dst = cv2.undistort(img_test, mtx, dist, None, mtx)\n",
    "cv2.imwrite(\"Images/test_images/straight_lines1_undistorted.jpg\", dst)\n",
    "# Save the matrix and coefficients\n",
    "dist_pickle = {}\n",
    "dist_pickle[\"Camera_Matrix\"] = mtx\n",
    "dist_pickle[\"Distortion_Coefficients\"] = dist\n",
    "pickle.dump(dist_pickle, open(\"dist_pickle.p\", \"wb\"))\n",
    "\n",
    "# Visualize undistortion\n",
    "f, (ax1, ax2) = plt.subplots(1, 2, figsize = (20, 10))\n",
    "ax1.set_title(\"Original Image\")\n",
    "ax1.imshow(img_test, cmap = \"gray\")\n",
    "ax2.set_title(\"Undistorted Image\")\n",
    "ax2.imshow(dst, cmap = \"gray\")\n"
   ]
  }
 ],
 "metadata": {
  "kernelspec": {
   "display_name": "Python 3",
   "language": "python",
   "name": "python3"
  },
  "language_info": {
   "codemirror_mode": {
    "name": "ipython",
    "version": 3
   },
   "file_extension": ".py",
   "mimetype": "text/x-python",
   "name": "python",
   "nbconvert_exporter": "python",
   "pygments_lexer": "ipython3",
   "version": "3.6.1"
  }
 },
 "nbformat": 4,
 "nbformat_minor": 2
}
